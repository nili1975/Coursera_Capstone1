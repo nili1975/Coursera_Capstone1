{
    "cells": [
        {
            "cell_type": "markdown",
            "metadata": {
                "collapsed": true
            },
            "source": "#this notebook will be mainly used for the capstone project"
        },
        {
            "cell_type": "code",
            "execution_count": 1,
            "metadata": {},
            "outputs": [],
            "source": "import pandas as pd"
        },
        {
            "cell_type": "code",
            "execution_count": 2,
            "metadata": {},
            "outputs": [],
            "source": "import numpy as np"
        },
        {
            "cell_type": "code",
            "execution_count": 4,
            "metadata": {},
            "outputs": [
                {
                    "name": "stdout",
                    "output_type": "stream",
                    "text": "Hello Capstone Project Course!\n"
                }
            ],
            "source": "print('Hello Capstone Project Course!')"
        },
        {
            "cell_type": "markdown",
            "metadata": {},
            "source": "# Week3 - Clustering Toronto's neighborhoods"
        },
        {
            "cell_type": "code",
            "execution_count": 68,
            "metadata": {},
            "outputs": [],
            "source": "from bs4 import BeautifulSoup\nimport requests\nimport pandas as pd\nimport numpy as np"
        },
        {
            "cell_type": "markdown",
            "metadata": {},
            "source": "### Go to the page in wikipedia"
        },
        {
            "cell_type": "code",
            "execution_count": 69,
            "metadata": {},
            "outputs": [],
            "source": "url='https://en.wikipedia.org/wiki/List_of_postal_codes_of_Canada:_M'\nr=requests.get(url)\nurl=r.content\nsoup = BeautifulSoup(url,'html.parser')"
        },
        {
            "cell_type": "markdown",
            "metadata": {},
            "source": "### choosing the table from the page"
        },
        {
            "cell_type": "code",
            "execution_count": 70,
            "metadata": {},
            "outputs": [],
            "source": "My_table=soup.find(\"table\",{\"class\":\"wikitable sortable\"})\n\ntable_rows = My_table.find_all('tr')\n\nl = []\nfor tr in table_rows:\n    td = tr.find_all('td')\n    row = [tr.text for tr in td]\n    l.append(row)"
        },
        {
            "cell_type": "markdown",
            "metadata": {},
            "source": "### The dataframe will consist of three columns: PostalCode, Borough, and Neighborhood"
        },
        {
            "cell_type": "code",
            "execution_count": 71,
            "metadata": {},
            "outputs": [],
            "source": "df=pd.DataFrame(l, columns=[\"PostalCode\", \"Borough\",\"Neighborhood\"])"
        },
        {
            "cell_type": "markdown",
            "metadata": {},
            "source": "### Only process the cells that have an assigned borough. Ignore cells with a borough that is Not assigned."
        },
        {
            "cell_type": "code",
            "execution_count": 72,
            "metadata": {},
            "outputs": [],
            "source": "df['Neighborhood'] = df['Neighborhood'].str.replace('\\n', '')\n\ndf1 = df[df.Borough != 'Not assigned']"
        },
        {
            "cell_type": "code",
            "execution_count": 73,
            "metadata": {},
            "outputs": [
                {
                    "name": "stdout",
                    "output_type": "stream",
                    "text": "Table head:\n  PostalCode           Borough      Neighborhood\n0       None              None              None\n3        M3A        North York         Parkwoods\n4        M4A        North York  Victoria Village\n5        M5A  Downtown Toronto      Harbourfront\n6        M6A        North York  Lawrence Heights\nTable shape: (211, 3)\n"
                }
            ],
            "source": "print('Table head:')\nprint(df1.head())\nprint('Table shape:',df1.shape)"
        },
        {
            "cell_type": "markdown",
            "metadata": {},
            "source": "#### More than one neighborhood can exist in one postal code area. For example, in the table on the Wikipedia page,\n#### you will notice that M5A is listed twice and has two neighborhoods: Harbourfront and Regent Park.\n#### These two rows will be combined into one row with the neighborhoods separated with a comma as shown in row 11 in the above table."
        },
        {
            "cell_type": "code",
            "execution_count": 74,
            "metadata": {},
            "outputs": [
                {
                    "name": "stdout",
                    "output_type": "stream",
                    "text": "   PostalCode           Borough                    Neighborhoods\n0         M3A        North York                        Parkwoods\n1         M4A        North York                 Victoria Village\n2         M5A  Downtown Toronto                     Harbourfront\n3         M6A        North York  Lawrence Heights,Lawrence Manor\n5         M7A      Queen's Park                     Not assigned\n6         M9A  Downtown Toronto                     Queen's Park\n7         M1B       Scarborough                    Rouge,Malvern\n9         M3B        North York                  Don Mills North\n10        M4B         East York   Woodbine Gardens,Parkview Hill\n12        M5B  Downtown Toronto          Ryerson,Garden District\nTable shape: (103, 3)\n"
                }
            ],
            "source": "df2=df1.groupby('PostalCode')['Neighborhood'].apply(','.join).to_frame().reset_index('PostalCode')\ndf2=df2.rename(columns={\"Neighborhood\": \"Neighborhoods\"})\ndf4=df1.drop(columns=['Neighborhood'])\ndf3= pd.merge(df4, df2, how='inner', left_on = 'PostalCode', right_on = 'PostalCode')\n\ndf5=df3.drop_duplicates()\n\nprint(df5.head(10))\nprint('Table shape:',df5.shape)"
        },
        {
            "cell_type": "code",
            "execution_count": 75,
            "metadata": {},
            "outputs": [
                {
                    "name": "stderr",
                    "output_type": "stream",
                    "text": "/opt/conda/envs/Python36/lib/python3.6/site-packages/ipykernel/__main__.py:1: SettingWithCopyWarning: \nA value is trying to be set on a copy of a slice from a DataFrame.\nTry using .loc[row_indexer,col_indexer] = value instead\n\nSee the caveats in the documentation: http://pandas.pydata.org/pandas-docs/stable/indexing.html#indexing-view-versus-copy\n  if __name__ == '__main__':\n"
                }
            ],
            "source": "df5['Neighborhoods'] = np.where((df5.Neighborhoods == 'Not assigned'),df5.Borough,df5.Neighborhoods)"
        },
        {
            "cell_type": "code",
            "execution_count": 76,
            "metadata": {},
            "outputs": [
                {
                    "name": "stdout",
                    "output_type": "stream",
                    "text": "   PostalCode           Borough                    Neighborhoods\n0         M3A        North York                        Parkwoods\n1         M4A        North York                 Victoria Village\n2         M5A  Downtown Toronto                     Harbourfront\n3         M6A        North York  Lawrence Heights,Lawrence Manor\n5         M7A      Queen's Park                     Queen's Park\n6         M9A  Downtown Toronto                     Queen's Park\n7         M1B       Scarborough                    Rouge,Malvern\n9         M3B        North York                  Don Mills North\n10        M4B         East York   Woodbine Gardens,Parkview Hill\n12        M5B  Downtown Toronto          Ryerson,Garden District\nTable shape: (103, 3)\n"
                }
            ],
            "source": "print(df5.head(10))\nprint('Table shape:',df5.shape)"
        },
        {
            "cell_type": "code",
            "execution_count": null,
            "metadata": {},
            "outputs": [],
            "source": ""
        }
    ],
    "metadata": {
        "kernelspec": {
            "display_name": "Python 3.6",
            "language": "python",
            "name": "python3"
        },
        "language_info": {
            "codemirror_mode": {
                "name": "ipython",
                "version": 3
            },
            "file_extension": ".py",
            "mimetype": "text/x-python",
            "name": "python",
            "nbconvert_exporter": "python",
            "pygments_lexer": "ipython3",
            "version": "3.6.8"
        }
    },
    "nbformat": 4,
    "nbformat_minor": 1
}