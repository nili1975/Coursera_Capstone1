{
    "cells": [
        {
            "cell_type": "markdown",
            "metadata": {
                "collapsed": true
            },
            "source": "#this notebook will be mainly used for the capstone project"
        },
        {
            "cell_type": "code",
            "execution_count": 2,
            "metadata": {},
            "outputs": [],
            "source": "import pandas as pd"
        },
        {
            "cell_type": "code",
            "execution_count": 3,
            "metadata": {},
            "outputs": [],
            "source": "import numpy as np"
        },
        {
            "cell_type": "code",
            "execution_count": 4,
            "metadata": {},
            "outputs": [
                {
                    "name": "stdout",
                    "output_type": "stream",
                    "text": "Hello Capstone Project Course!\n"
                }
            ],
            "source": "print('Hello Capstone Project Course!')"
        },
        {
            "cell_type": "markdown",
            "metadata": {},
            "source": "# Week3 - Clustering Toronto's neighborhoods"
        },
        {
            "cell_type": "code",
            "execution_count": 5,
            "metadata": {},
            "outputs": [],
            "source": "from bs4 import BeautifulSoup\nimport requests\nimport pandas as pd\nimport numpy as np"
        },
        {
            "cell_type": "markdown",
            "metadata": {},
            "source": "### Go to the page in wikipedia"
        },
        {
            "cell_type": "code",
            "execution_count": 6,
            "metadata": {},
            "outputs": [],
            "source": "url='https://en.wikipedia.org/wiki/List_of_postal_codes_of_Canada:_M'\nr=requests.get(url)\nurl=r.content\nsoup = BeautifulSoup(url,'html.parser')"
        },
        {
            "cell_type": "markdown",
            "metadata": {},
            "source": "### choosing the table from the page"
        },
        {
            "cell_type": "code",
            "execution_count": 7,
            "metadata": {},
            "outputs": [],
            "source": "My_table=soup.find(\"table\",{\"class\":\"wikitable sortable\"})\n\ntable_rows = My_table.find_all('tr')\n\nl = []\nfor tr in table_rows:\n    td = tr.find_all('td')\n    row = [tr.text for tr in td]\n    l.append(row)"
        },
        {
            "cell_type": "markdown",
            "metadata": {},
            "source": "### The dataframe will consist of three columns: PostalCode, Borough, and Neighborhood"
        },
        {
            "cell_type": "code",
            "execution_count": 8,
            "metadata": {},
            "outputs": [],
            "source": "df=pd.DataFrame(l, columns=[\"PostalCode\", \"Borough\",\"Neighborhood\"])"
        },
        {
            "cell_type": "markdown",
            "metadata": {},
            "source": "### Only process the cells that have an assigned borough. Ignore cells with a borough that is Not assigned."
        },
        {
            "cell_type": "code",
            "execution_count": 9,
            "metadata": {},
            "outputs": [],
            "source": "df['Neighborhood'] = df['Neighborhood'].str.replace('\\n', '')\n\ndf1 = df[df.Borough != 'Not assigned']"
        },
        {
            "cell_type": "code",
            "execution_count": 10,
            "metadata": {},
            "outputs": [
                {
                    "name": "stdout",
                    "output_type": "stream",
                    "text": "Table head:\n  PostalCode           Borough      Neighborhood\n0       None              None              None\n3        M3A        North York         Parkwoods\n4        M4A        North York  Victoria Village\n5        M5A  Downtown Toronto      Harbourfront\n6        M6A        North York  Lawrence Heights\nTable shape: (211, 3)\n"
                }
            ],
            "source": "print('Table head:')\nprint(df1.head())\nprint('Table shape:',df1.shape)"
        },
        {
            "cell_type": "markdown",
            "metadata": {},
            "source": "#### More than one neighborhood can exist in one postal code area. For example, in the table on the Wikipedia page,\n#### you will notice that M5A is listed twice and has two neighborhoods: Harbourfront and Regent Park.\n#### These two rows will be combined into one row with the neighborhoods separated with a comma as shown in row 11 in the above table."
        },
        {
            "cell_type": "code",
            "execution_count": 11,
            "metadata": {},
            "outputs": [
                {
                    "name": "stdout",
                    "output_type": "stream",
                    "text": "   PostalCode           Borough                    Neighborhoods\n0         M3A        North York                        Parkwoods\n1         M4A        North York                 Victoria Village\n2         M5A  Downtown Toronto                     Harbourfront\n3         M6A        North York  Lawrence Heights,Lawrence Manor\n5         M7A      Queen's Park                     Not assigned\n6         M9A  Downtown Toronto                     Queen's Park\n7         M1B       Scarborough                    Rouge,Malvern\n9         M3B        North York                  Don Mills North\n10        M4B         East York   Woodbine Gardens,Parkview Hill\n12        M5B  Downtown Toronto          Ryerson,Garden District\nTable shape: (103, 3)\n"
                }
            ],
            "source": "df2=df1.groupby('PostalCode')['Neighborhood'].apply(','.join).to_frame().reset_index('PostalCode')\ndf2=df2.rename(columns={\"Neighborhood\": \"Neighborhoods\"})\ndf4=df1.drop(columns=['Neighborhood'])\ndf3= pd.merge(df4, df2, how='inner', left_on = 'PostalCode', right_on = 'PostalCode')\n\ndf5=df3.drop_duplicates()\n\nprint(df5.head(10))\nprint('Table shape:',df5.shape)"
        },
        {
            "cell_type": "code",
            "execution_count": 13,
            "metadata": {},
            "outputs": [
                {
                    "name": "stderr",
                    "output_type": "stream",
                    "text": "/opt/conda/envs/Python36/lib/python3.6/site-packages/ipykernel/__main__.py:1: SettingWithCopyWarning: \nA value is trying to be set on a copy of a slice from a DataFrame.\nTry using .loc[row_indexer,col_indexer] = value instead\n\nSee the caveats in the documentation: http://pandas.pydata.org/pandas-docs/stable/indexing.html#indexing-view-versus-copy\n  if __name__ == '__main__':\n"
                }
            ],
            "source": "df5['Neighborhoods'] = np.where((df5.Neighborhoods == 'Not assigned'),df5.Borough,df5.Neighborhoods)"
        },
        {
            "cell_type": "code",
            "execution_count": 14,
            "metadata": {},
            "outputs": [
                {
                    "name": "stdout",
                    "output_type": "stream",
                    "text": "   PostalCode           Borough                    Neighborhoods\n0         M3A        North York                        Parkwoods\n1         M4A        North York                 Victoria Village\n2         M5A  Downtown Toronto                     Harbourfront\n3         M6A        North York  Lawrence Heights,Lawrence Manor\n5         M7A      Queen's Park                     Queen's Park\n6         M9A  Downtown Toronto                     Queen's Park\n7         M1B       Scarborough                    Rouge,Malvern\n9         M3B        North York                  Don Mills North\n10        M4B         East York   Woodbine Gardens,Parkview Hill\n12        M5B  Downtown Toronto          Ryerson,Garden District\nTable shape: (103, 3)\n"
                }
            ],
            "source": "print(df5.head(10))\nprint('Table shape:',df5.shape)"
        },
        {
            "cell_type": "markdown",
            "metadata": {},
            "source": "## latitude and the longitude coordinates of each neighborhood."
        },
        {
            "cell_type": "code",
            "execution_count": 15,
            "metadata": {},
            "outputs": [
                {
                    "data": {
                        "text/html": "<div>\n<style scoped>\n    .dataframe tbody tr th:only-of-type {\n        vertical-align: middle;\n    }\n\n    .dataframe tbody tr th {\n        vertical-align: top;\n    }\n\n    .dataframe thead th {\n        text-align: right;\n    }\n</style>\n<table border=\"1\" class=\"dataframe\">\n  <thead>\n    <tr style=\"text-align: right;\">\n      <th></th>\n      <th>PostalCode</th>\n      <th>Latitude</th>\n      <th>Longitude</th>\n    </tr>\n  </thead>\n  <tbody>\n    <tr>\n      <th>0</th>\n      <td>M1B</td>\n      <td>43.806686</td>\n      <td>-79.194353</td>\n    </tr>\n    <tr>\n      <th>1</th>\n      <td>M1C</td>\n      <td>43.784535</td>\n      <td>-79.160497</td>\n    </tr>\n    <tr>\n      <th>2</th>\n      <td>M1E</td>\n      <td>43.763573</td>\n      <td>-79.188711</td>\n    </tr>\n    <tr>\n      <th>3</th>\n      <td>M1G</td>\n      <td>43.770992</td>\n      <td>-79.216917</td>\n    </tr>\n    <tr>\n      <th>4</th>\n      <td>M1H</td>\n      <td>43.773136</td>\n      <td>-79.239476</td>\n    </tr>\n  </tbody>\n</table>\n</div>",
                        "text/plain": "  PostalCode   Latitude  Longitude\n0        M1B  43.806686 -79.194353\n1        M1C  43.784535 -79.160497\n2        M1E  43.763573 -79.188711\n3        M1G  43.770992 -79.216917\n4        M1H  43.773136 -79.239476"
                    },
                    "execution_count": 15,
                    "metadata": {},
                    "output_type": "execute_result"
                }
            ],
            "source": "# The code was removed by Watson Studio for sharing."
        },
        {
            "cell_type": "code",
            "execution_count": 16,
            "metadata": {},
            "outputs": [
                {
                    "name": "stdout",
                    "output_type": "stream",
                    "text": "  PostalCode           Borough                    Neighborhoods   Latitude  \\\n0        M3A        North York                        Parkwoods  43.753259   \n1        M4A        North York                 Victoria Village  43.725882   \n2        M5A  Downtown Toronto                     Harbourfront  43.654260   \n3        M6A        North York  Lawrence Heights,Lawrence Manor  43.718518   \n4        M7A      Queen's Park                     Queen's Park  43.662301   \n5        M9A  Downtown Toronto                     Queen's Park  43.667856   \n6        M1B       Scarborough                    Rouge,Malvern  43.806686   \n7        M3B        North York                  Don Mills North  43.745906   \n8        M4B         East York   Woodbine Gardens,Parkview Hill  43.706397   \n9        M5B  Downtown Toronto          Ryerson,Garden District  43.657162   \n\n   Longitude  \n0 -79.329656  \n1 -79.315572  \n2 -79.360636  \n3 -79.464763  \n4 -79.389494  \n5 -79.532242  \n6 -79.194353  \n7 -79.352188  \n8 -79.309937  \n9 -79.378937  \n"
                }
            ],
            "source": "df7 = pd.merge(df5, df6, on='PostalCode', how='right')\n\nprint(df7.head(10))\n"
        },
        {
            "cell_type": "markdown",
            "metadata": {},
            "source": "## Maps to visualize your neighborhoods and how they cluster together."
        },
        {
            "cell_type": "code",
            "execution_count": 41,
            "metadata": {},
            "outputs": [
                {
                    "name": "stdout",
                    "output_type": "stream",
                    "text": "Solving environment: done\n\n# All requested packages already installed.\n\nLibraries imported.\n"
                }
            ],
            "source": "import json\nfrom pandas.io.json import json_normalize\nfrom sklearn.cluster import KMeans\nimport matplotlib.cm as cm\nimport matplotlib.colors as colors\n!conda install -c conda-forge folium=0.5.0 --yes\nimport folium\nprint('Libraries imported.')\n\nCLIENT_ID = 'PH3C5IT4OPSSN3ZIBK0N4ZR5QXUDFJQZLUQOW2AU4M5CCVDB'\nCLIENT_SECRET = 'DYAENG5F4ZLVSSIGN4FP4AIFSBBIJ2EPUQQUADO3E4SSA2X3'\nVERSION = '20180605'\nLIMIT = 100\nradius = 500\n\n\n#Neighborhood_name=df7.loc[0,'Neighborhoods']\nlat=df7.loc[0,'Latitude']\nlng=df7.loc[0,'Longitude']\n\nurl = 'https://api.foursquare.com/v2/venues/explore?&client_id={}&client_secret={}&v={}&ll={},{}&radius={}&limit={}'.format(\n            CLIENT_ID, CLIENT_SECRET, VERSION, lat, lng, radius, LIMIT)\n\nresults = requests.get(url).json()"
        },
        {
            "cell_type": "code",
            "execution_count": 48,
            "metadata": {},
            "outputs": [],
            "source": "def get_category_type(row):\n    try:\n        categories_list=row['categories']\n    except:\n        categories_list=row['venue.categories']\n    if len(categories_list)==0:\n        return None\n    else:\n        return categories_list[0]['name']\n"
        },
        {
            "cell_type": "code",
            "execution_count": 58,
            "metadata": {},
            "outputs": [
                {
                    "name": "stdout",
                    "output_type": "stream",
                    "text": "Queen's Park 43.6678556 -79.53224240000002\n"
                },
                {
                    "data": {
                        "text/plain": "{'meta': {'code': 200, 'requestId': '5dfb7440d03993001b50d44c'},\n 'response': {'warning': {'text': \"There aren't a lot of results near you. Try something more general, reset your filters, or expand the search area.\"},\n  'headerLocation': 'Parkwoods - Donalda',\n  'headerFullLocation': 'Parkwoods - Donalda, Toronto',\n  'headerLocationGranularity': 'neighborhood',\n  'totalResults': 2,\n  'suggestedBounds': {'ne': {'lat': 43.757758604500005,\n    'lng': -79.32343823984928},\n   'sw': {'lat': 43.7487585955, 'lng': -79.33587476015072}},\n  'groups': [{'type': 'Recommended Places',\n    'name': 'recommended',\n    'items': [{'reasons': {'count': 0,\n       'items': [{'summary': 'This spot is popular',\n         'type': 'general',\n         'reasonName': 'globalInteractionReason'}]},\n      'venue': {'id': '4e8d9dcdd5fbbbb6b3003c7b',\n       'name': 'Brookbanks Park',\n       'location': {'address': 'Toronto',\n        'lat': 43.751976046055574,\n        'lng': -79.33214044722958,\n        'labeledLatLngs': [{'label': 'display',\n          'lat': 43.751976046055574,\n          'lng': -79.33214044722958}],\n        'distance': 245,\n        'cc': 'CA',\n        'city': 'Toronto',\n        'state': 'ON',\n        'country': 'Canada',\n        'formattedAddress': ['Toronto', 'Toronto ON', 'Canada']},\n       'categories': [{'id': '4bf58dd8d48988d163941735',\n         'name': 'Park',\n         'pluralName': 'Parks',\n         'shortName': 'Park',\n         'icon': {'prefix': 'https://ss3.4sqi.net/img/categories_v2/parks_outdoors/park_',\n          'suffix': '.png'},\n         'primary': True}],\n       'photos': {'count': 0, 'groups': []}},\n      'referralId': 'e-0-4e8d9dcdd5fbbbb6b3003c7b-0'},\n     {'reasons': {'count': 0,\n       'items': [{'summary': 'This spot is popular',\n         'type': 'general',\n         'reasonName': 'globalInteractionReason'}]},\n      'venue': {'id': '4cb11e2075ebb60cd1c4caad',\n       'name': 'Variety Store',\n       'location': {'address': '29 Valley Woods Road',\n        'lat': 43.75197441585782,\n        'lng': -79.33311418516017,\n        'labeledLatLngs': [{'label': 'display',\n          'lat': 43.75197441585782,\n          'lng': -79.33311418516017}],\n        'distance': 312,\n        'cc': 'CA',\n        'city': 'Toronto',\n        'state': 'ON',\n        'country': 'Canada',\n        'formattedAddress': ['29 Valley Woods Road', 'Toronto ON', 'Canada']},\n       'categories': [{'id': '4bf58dd8d48988d1f9941735',\n         'name': 'Food & Drink Shop',\n         'pluralName': 'Food & Drink Shops',\n         'shortName': 'Food & Drink',\n         'icon': {'prefix': 'https://ss3.4sqi.net/img/categories_v2/shops/foodanddrink_',\n          'suffix': '.png'},\n         'primary': True}],\n       'photos': {'count': 0, 'groups': []}},\n      'referralId': 'e-0-4cb11e2075ebb60cd1c4caad-1'}]}]}}"
                    },
                    "execution_count": 58,
                    "metadata": {},
                    "output_type": "execute_result"
                }
            ],
            "source": "Neighborhood_name=df7.loc[5,'Neighborhoods']\nlat=df7.loc[5,'Latitude']\nlng=df7.loc[5,'Longitude']\nprint(Neighborhood_name,lat,lng)\nresults"
        },
        {
            "cell_type": "code",
            "execution_count": 65,
            "metadata": {},
            "outputs": [
                {
                    "ename": "TypeError",
                    "evalue": "list indices must be integers or slices, not str",
                    "output_type": "error",
                    "traceback": [
                        "\u001b[0;31m---------------------------------------------------------------------------\u001b[0m",
                        "\u001b[0;31mTypeError\u001b[0m                                 Traceback (most recent call last)",
                        "\u001b[0;32m<ipython-input-65-671508a81032>\u001b[0m in \u001b[0;36m<module>\u001b[0;34m\u001b[0m\n\u001b[0;32m----> 1\u001b[0;31m \u001b[0mvenues\u001b[0m\u001b[0;34m=\u001b[0m\u001b[0mresults\u001b[0m\u001b[0;34m[\u001b[0m\u001b[0;34m'response'\u001b[0m\u001b[0;34m]\u001b[0m\u001b[0;34m[\u001b[0m\u001b[0;34m'groups'\u001b[0m\u001b[0;34m]\u001b[0m\u001b[0;34m[\u001b[0m\u001b[0;36m0\u001b[0m\u001b[0;34m]\u001b[0m\u001b[0;34m[\u001b[0m\u001b[0;34m'items'\u001b[0m\u001b[0;34m]\u001b[0m\u001b[0;34m\u001b[0m\u001b[0;34m\u001b[0m\u001b[0m\n\u001b[0m\u001b[1;32m      2\u001b[0m \u001b[0mnearby_venues\u001b[0m\u001b[0;34m=\u001b[0m\u001b[0mjson_normalize\u001b[0m\u001b[0;34m(\u001b[0m\u001b[0mvenues\u001b[0m\u001b[0;34m)\u001b[0m\u001b[0;34m\u001b[0m\u001b[0;34m\u001b[0m\u001b[0m\n\u001b[1;32m      3\u001b[0m \u001b[0mfiltered_columns\u001b[0m\u001b[0;34m=\u001b[0m\u001b[0;34m[\u001b[0m\u001b[0;34m'venue.name'\u001b[0m\u001b[0;34m,\u001b[0m\u001b[0;34m'venue.categories'\u001b[0m\u001b[0;34m,\u001b[0m\u001b[0;34m'vanue.location.lat'\u001b[0m\u001b[0;34m,\u001b[0m\u001b[0;34m'vanue.location.lng'\u001b[0m\u001b[0;34m]\u001b[0m\u001b[0;34m\u001b[0m\u001b[0;34m\u001b[0m\u001b[0m\n\u001b[1;32m      4\u001b[0m \u001b[0mnearby_venues\u001b[0m\u001b[0;34m=\u001b[0m\u001b[0mnearby_venues\u001b[0m\u001b[0;34m.\u001b[0m\u001b[0mloc\u001b[0m\u001b[0;34m[\u001b[0m\u001b[0;34m:\u001b[0m\u001b[0;34m,\u001b[0m\u001b[0mfiltered_columns\u001b[0m\u001b[0;34m]\u001b[0m\u001b[0;34m\u001b[0m\u001b[0;34m\u001b[0m\u001b[0m\n\u001b[1;32m      5\u001b[0m \u001b[0mnearby_venues\u001b[0m\u001b[0;34m[\u001b[0m\u001b[0;34m'venue.categories'\u001b[0m\u001b[0;34m]\u001b[0m\u001b[0;34m=\u001b[0m\u001b[0mnearby_venues\u001b[0m\u001b[0;34m.\u001b[0m\u001b[0mapply\u001b[0m\u001b[0;34m(\u001b[0m\u001b[0mget_category_type\u001b[0m\u001b[0;34m,\u001b[0m\u001b[0maxis\u001b[0m\u001b[0;34m=\u001b[0m\u001b[0;36m1\u001b[0m\u001b[0;34m)\u001b[0m\u001b[0;34m\u001b[0m\u001b[0;34m\u001b[0m\u001b[0m\n",
                        "\u001b[0;31mTypeError\u001b[0m: list indices must be integers or slices, not str"
                    ]
                }
            ],
            "source": "venues=results['response']['groups'][0]['items']\nnearby_venues=json_normalize(venues)\nfiltered_columns=['venue.name','venue.categories','vanue.location.lat','vanue.location.lng']\nnearby_venues=nearby_venues.loc[:,filtered_columns]\nnearby_venues['venue.categories']=nearby_venues.apply(get_category_type,axis=1)\nnearby_venues.columns=[col.split(\".\")[-1] for col in nearby_venues.columns]\nnearby_venues.head()\n"
        },
        {
            "cell_type": "code",
            "execution_count": null,
            "metadata": {},
            "outputs": [],
            "source": ""
        },
        {
            "cell_type": "code",
            "execution_count": null,
            "metadata": {},
            "outputs": [],
            "source": ""
        },
        {
            "cell_type": "code",
            "execution_count": null,
            "metadata": {},
            "outputs": [],
            "source": ""
        },
        {
            "cell_type": "code",
            "execution_count": null,
            "metadata": {},
            "outputs": [],
            "source": ""
        },
        {
            "cell_type": "code",
            "execution_count": null,
            "metadata": {},
            "outputs": [],
            "source": ""
        },
        {
            "cell_type": "code",
            "execution_count": null,
            "metadata": {},
            "outputs": [],
            "source": ""
        }
    ],
    "metadata": {
        "kernelspec": {
            "display_name": "Python 3.6",
            "language": "python",
            "name": "python3"
        },
        "language_info": {
            "codemirror_mode": {
                "name": "ipython",
                "version": 3
            },
            "file_extension": ".py",
            "mimetype": "text/x-python",
            "name": "python",
            "nbconvert_exporter": "python",
            "pygments_lexer": "ipython3",
            "version": "3.6.8"
        }
    },
    "nbformat": 4,
    "nbformat_minor": 1
}